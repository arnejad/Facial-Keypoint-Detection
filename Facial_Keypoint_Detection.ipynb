{
  "nbformat": 4,
  "nbformat_minor": 0,
  "metadata": {
    "colab": {
      "name": "Facial-Keypoint Detection.ipynb",
      "provenance": [],
      "collapsed_sections": [
        "zb3_Qb9C1hV7",
        "LRsBwo430jBk"
      ],
      "include_colab_link": true
    },
    "kernelspec": {
      "name": "python3",
      "display_name": "Python 3"
    },
    "accelerator": "GPU"
  },
  "cells": [
    {
      "cell_type": "markdown",
      "metadata": {
        "id": "view-in-github",
        "colab_type": "text"
      },
      "source": [
        "<a href=\"https://colab.research.google.com/github/Z4HRA-S/Facial-Keypoint-Detection/blob/master/Facial_Keypoint_Detection.ipynb\" target=\"_parent\"><img src=\"https://colab.research.google.com/assets/colab-badge.svg\" alt=\"Open In Colab\"/></a>"
      ]
    },
    {
      "cell_type": "markdown",
      "metadata": {
        "id": "z5BlgXAe1iM2",
        "colab_type": "text"
      },
      "source": [
        "### **Facial Keypoint Detections - Kaggle challenge**\n",
        "The code is divided into n parts.\n",
        "- Loading Data from Kaggle API\n",
        "- Data Preparation\n",
        "- Visualization\n",
        "- Data Augmentation"
        "- Deep Leaning"
      ]
    },
    {
      "cell_type": "code",
      "metadata": {
        "id": "3NCIL3NcumX-",
        "colab_type": "code",
        "colab": {}
      },
      "source": [
        "import numpy as np\n",
        "import matplotlib.pyplot as plt\n",
        "import pandas as pd\n",
        "from IPython.display import clear_output\n",
        "from time import sleep\n",
        "import os\n",
        "import random"
      ],
      "execution_count": 1,
      "outputs": []
    },
    {
      "cell_type": "markdown",
      "metadata": {
        "id": "zb3_Qb9C1hV7",
        "colab_type": "text"
      },
      "source": [
        "#### **Loading Data from Kaggle into notebook** (one time execution)\n"
      ]
    },
    {
      "cell_type": "code",
      "metadata": {
        "id": "MM5WQCaSnLxa",
        "colab_type": "code",
        "colab": {
          "base_uri": "https://localhost:8080/",
          "height": 208
        },
        "outputId": "582d0ad4-857f-47af-fd41-dffe020ab309"
      },
      "source": [
        "! pip install kaggle\n",
        "!mkdir -p ~/.kaggle"
      ],
      "execution_count": 2,
      "outputs": [
        {
          "output_type": "stream",
          "text": [
            "Requirement already satisfied: kaggle in /usr/local/lib/python3.6/dist-packages (1.5.6)\n",
            "Requirement already satisfied: certifi in /usr/local/lib/python3.6/dist-packages (from kaggle) (2020.6.20)\n",
            "Requirement already satisfied: urllib3<1.25,>=1.21.1 in /usr/local/lib/python3.6/dist-packages (from kaggle) (1.24.3)\n",
            "Requirement already satisfied: python-slugify in /usr/local/lib/python3.6/dist-packages (from kaggle) (4.0.1)\n",
            "Requirement already satisfied: python-dateutil in /usr/local/lib/python3.6/dist-packages (from kaggle) (2.8.1)\n",
            "Requirement already satisfied: requests in /usr/local/lib/python3.6/dist-packages (from kaggle) (2.23.0)\n",
            "Requirement already satisfied: tqdm in /usr/local/lib/python3.6/dist-packages (from kaggle) (4.41.1)\n",
            "Requirement already satisfied: six>=1.10 in /usr/local/lib/python3.6/dist-packages (from kaggle) (1.15.0)\n",
            "Requirement already satisfied: text-unidecode>=1.3 in /usr/local/lib/python3.6/dist-packages (from python-slugify->kaggle) (1.3)\n",
            "Requirement already satisfied: idna<3,>=2.5 in /usr/local/lib/python3.6/dist-packages (from requests->kaggle) (2.10)\n",
            "Requirement already satisfied: chardet<4,>=3.0.2 in /usr/local/lib/python3.6/dist-packages (from requests->kaggle) (3.0.4)\n"
          ],
          "name": "stdout"
        }
      ]
    },
    {
      "cell_type": "code",
      "metadata": {
        "id": "S0L1SqUanbcS",
        "colab_type": "code",
        "colab": {
          "resources": {
            "http://localhost:8080/nbextensions/google.colab/files.js": {
              "data": "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",
              "ok": true,
              "headers": [
                [
                  "content-type",
                  "application/javascript"
                ]
              ],
              "status": 200,
              "status_text": "OK"
            }
          },
          "base_uri": "https://localhost:8080/",
          "height": 102
        },
        "outputId": "9a5988f6-dc43-42dd-f73d-640978482bfe"
      },
      "source": [
        "from google.colab import files\n",
        "files.upload()"
      ],
      "execution_count": 3,
      "outputs": [
        {
          "output_type": "display_data",
          "data": {
            "text/html": [
              "\n",
              "     <input type=\"file\" id=\"files-aca761ae-16f4-4953-9bdc-8a0f49b73ac4\" name=\"files[]\" multiple disabled\n",
              "        style=\"border:none\" />\n",
              "     <output id=\"result-aca761ae-16f4-4953-9bdc-8a0f49b73ac4\">\n",
              "      Upload widget is only available when the cell has been executed in the\n",
              "      current browser session. Please rerun this cell to enable.\n",
              "      </output>\n",
              "      <script src=\"/nbextensions/google.colab/files.js\"></script> "
            ],
            "text/plain": [
              "<IPython.core.display.HTML object>"
            ]
          },
          "metadata": {
            "tags": []
          }
        },
        {
          "output_type": "stream",
          "text": [
            "Saving kaggle.json to kaggle.json\n"
          ],
          "name": "stdout"
        },
        {
          "output_type": "execute_result",
          "data": {
            "text/plain": [
              "{'kaggle.json': b'{\"username\":\"ashnejad\",\"key\":\"249dcaf84b862004c36c1fb1ff6dd01a\"}'}"
            ]
          },
          "metadata": {
            "tags": []
          },
          "execution_count": 3
        }
      ]
    },
    {
      "cell_type": "code",
      "metadata": {
        "id": "nxJVcp6in8FL",
        "colab_type": "code",
        "colab": {}
      },
      "source": [
        "!cp kaggle.json ~/.kaggle/\n",
        "!chmod 600 ~/.kaggle/kaggle.json"
      ],
      "execution_count": 4,
      "outputs": []
    },
    {
      "cell_type": "code",
      "metadata": {
        "id": "iqlt3B9NoHzz",
        "colab_type": "code",
        "colab": {
          "base_uri": "https://localhost:8080/",
          "height": 243
        },
        "outputId": "ac936b69-ebe7-4fb3-8823-7f08f93b046d"
      },
      "source": [
        "!kaggle competitions download -c facial-keypoints-detection"
      ],
      "execution_count": 5,
      "outputs": [
        {
          "output_type": "stream",
          "text": [
            "Warning: Looks like you're using an outdated API Version, please consider updating (server 1.5.6 / client 1.5.4)\n",
            "Downloading test.zip to /content\n",
            " 56% 9.00M/16.0M [00:00<00:00, 12.4MB/s]\n",
            "100% 16.0M/16.0M [00:00<00:00, 23.4MB/s]\n",
            "Downloading SampleSubmission.csv to /content\n",
            "  0% 0.00/201k [00:00<?, ?B/s]\n",
            "100% 201k/201k [00:00<00:00, 211MB/s]\n",
            "Downloading training.zip to /content\n",
            " 82% 49.0M/60.1M [00:00<00:00, 31.9MB/s]\n",
            "100% 60.1M/60.1M [00:01<00:00, 61.8MB/s]\n",
            "Downloading IdLookupTable.csv to /content\n",
            "  0% 0.00/843k [00:00<?, ?B/s]\n",
            "100% 843k/843k [00:00<00:00, 117MB/s]\n"
          ],
          "name": "stdout"
        }
      ]
    },
    {
      "cell_type": "code",
      "metadata": {
        "id": "a8WhDCRBrtQC",
        "colab_type": "code",
        "colab": {
          "base_uri": "https://localhost:8080/",
          "height": 52
        },
        "outputId": "1d8e4348-e059-4f07-dd84-eb8e9e7ca6fc"
      },
      "source": [
        "# Unpacking downloaded zips\n",
        "# The output must contain test.csv,  training.csv,  IdLookupTable.csv\n",
        "!unzip -q training.zip -d .\n",
        "!unzip -q test.zip -d .\n",
        "!ls"
      ],
      "execution_count": 6,
      "outputs": [
        {
          "output_type": "stream",
          "text": [
            "IdLookupTable.csv  sample_data\t\t test.csv  training.csv\n",
            "kaggle.json\t   SampleSubmission.csv  test.zip  training.zip\n"
          ],
          "name": "stdout"
        }
      ]
    },
    {
      "cell_type": "markdown",
      "metadata": {
        "id": "fYoJz5S9QJDw",
        "colab_type": "text"
      },
      "source": [
        "#### **Data Preparation**\n"
      ]
    },
    {
      "cell_type": "code",
      "metadata": {
        "id": "NyZPuGZ7vHaB",
        "colab_type": "code",
        "colab": {}
      },
      "source": [
        "Train_Dir = 'training.csv'\n",
        "Test_Dir = 'test.csv'\n",
        "lookid_dir = 'IdLookupTable.csv'\n",
        "train = pd.read_csv(Train_Dir)  \n",
        "test = pd.read_csv(Test_Dir)\n",
        "lookid = pd.read_csv(lookid_dir)\n"
      ],
      "execution_count": 30,
      "outputs": []
    },
    {
      "cell_type": "code",
      "metadata": {
        "id": "zAZBu3n_stRD",
        "colab_type": "code",
        "colab": {
          "base_uri": "https://localhost:8080/",
          "height": 677
        },
        "outputId": "30f2dec0-22b0-4c19-cb7e-1ead4838c9ea"
      },
      "source": [
        "# a preview of the data\n",
        "train.info()"
      ],
      "execution_count": 31,
      "outputs": [
        {
          "output_type": "stream",
          "text": [
            "<class 'pandas.core.frame.DataFrame'>\n",
            "RangeIndex: 7049 entries, 0 to 7048\n",
            "Data columns (total 31 columns):\n",
            " #   Column                     Non-Null Count  Dtype  \n",
            "---  ------                     --------------  -----  \n",
            " 0   left_eye_center_x          7039 non-null   float64\n",
            " 1   left_eye_center_y          7039 non-null   float64\n",
            " 2   right_eye_center_x         7036 non-null   float64\n",
            " 3   right_eye_center_y         7036 non-null   float64\n",
            " 4   left_eye_inner_corner_x    2271 non-null   float64\n",
            " 5   left_eye_inner_corner_y    2271 non-null   float64\n",
            " 6   left_eye_outer_corner_x    2267 non-null   float64\n",
            " 7   left_eye_outer_corner_y    2267 non-null   float64\n",
            " 8   right_eye_inner_corner_x   2268 non-null   float64\n",
            " 9   right_eye_inner_corner_y   2268 non-null   float64\n",
            " 10  right_eye_outer_corner_x   2268 non-null   float64\n",
            " 11  right_eye_outer_corner_y   2268 non-null   float64\n",
            " 12  left_eyebrow_inner_end_x   2270 non-null   float64\n",
            " 13  left_eyebrow_inner_end_y   2270 non-null   float64\n",
            " 14  left_eyebrow_outer_end_x   2225 non-null   float64\n",
            " 15  left_eyebrow_outer_end_y   2225 non-null   float64\n",
            " 16  right_eyebrow_inner_end_x  2270 non-null   float64\n",
            " 17  right_eyebrow_inner_end_y  2270 non-null   float64\n",
            " 18  right_eyebrow_outer_end_x  2236 non-null   float64\n",
            " 19  right_eyebrow_outer_end_y  2236 non-null   float64\n",
            " 20  nose_tip_x                 7049 non-null   float64\n",
            " 21  nose_tip_y                 7049 non-null   float64\n",
            " 22  mouth_left_corner_x        2269 non-null   float64\n",
            " 23  mouth_left_corner_y        2269 non-null   float64\n",
            " 24  mouth_right_corner_x       2270 non-null   float64\n",
            " 25  mouth_right_corner_y       2270 non-null   float64\n",
            " 26  mouth_center_top_lip_x     2275 non-null   float64\n",
            " 27  mouth_center_top_lip_y     2275 non-null   float64\n",
            " 28  mouth_center_bottom_lip_x  7016 non-null   float64\n",
            " 29  mouth_center_bottom_lip_y  7016 non-null   float64\n",
            " 30  Image                      7049 non-null   object \n",
            "dtypes: float64(30), object(1)\n",
            "memory usage: 1.7+ MB\n"
          ],
          "name": "stdout"
        }
      ]
    },
    {
      "cell_type": "markdown",
      "metadata": {
        "id": "_JrenLbsEdic",
        "colab_type": "text"
      },
      "source": [
        "In the following section, the train data frame is splited into two dataframes, one containing images, the other containing key-points info."
      ]
    },
    {
      "cell_type": "code",
      "metadata": {
        "id": "JyNPBJL3U7n_",
        "colab_type": "code",
        "colab": {
          "base_uri": "https://localhost:8080/",
          "height": 206
        },
        "outputId": "0d24b8a2-4b90-4ca8-e1e1-d3b8582d8900"
      },
      "source": [
        "img_df = train[[\"Image\"]]     # images dataset\n",
        "points_df = train.drop(\"Image\",axis=1)   # key-points dataset\n",
        "img_df.head(5)                 # logging the first five images"
      ],
      "execution_count": 32,
      "outputs": [
        {
          "output_type": "execute_result",
          "data": {
            "text/html": [
              "<div>\n",
              "<style scoped>\n",
              "    .dataframe tbody tr th:only-of-type {\n",
              "        vertical-align: middle;\n",
              "    }\n",
              "\n",
              "    .dataframe tbody tr th {\n",
              "        vertical-align: top;\n",
              "    }\n",
              "\n",
              "    .dataframe thead th {\n",
              "        text-align: right;\n",
              "    }\n",
              "</style>\n",
              "<table border=\"1\" class=\"dataframe\">\n",
              "  <thead>\n",
              "    <tr style=\"text-align: right;\">\n",
              "      <th></th>\n",
              "      <th>Image</th>\n",
              "    </tr>\n",
              "  </thead>\n",
              "  <tbody>\n",
              "    <tr>\n",
              "      <th>0</th>\n",
              "      <td>238 236 237 238 240 240 239 241 241 243 240 23...</td>\n",
              "    </tr>\n",
              "    <tr>\n",
              "      <th>1</th>\n",
              "      <td>219 215 204 196 204 211 212 200 180 168 178 19...</td>\n",
              "    </tr>\n",
              "    <tr>\n",
              "      <th>2</th>\n",
              "      <td>144 142 159 180 188 188 184 180 167 132 84 59 ...</td>\n",
              "    </tr>\n",
              "    <tr>\n",
              "      <th>3</th>\n",
              "      <td>193 192 193 194 194 194 193 192 168 111 50 12 ...</td>\n",
              "    </tr>\n",
              "    <tr>\n",
              "      <th>4</th>\n",
              "      <td>147 148 160 196 215 214 216 217 219 220 206 18...</td>\n",
              "    </tr>\n",
              "  </tbody>\n",
              "</table>\n",
              "</div>"
            ],
            "text/plain": [
              "                                               Image\n",
              "0  238 236 237 238 240 240 239 241 241 243 240 23...\n",
              "1  219 215 204 196 204 211 212 200 180 168 178 19...\n",
              "2  144 142 159 180 188 188 184 180 167 132 84 59 ...\n",
              "3  193 192 193 194 194 194 193 192 168 111 50 12 ...\n",
              "4  147 148 160 196 215 214 216 217 219 220 206 18..."
            ]
          },
          "metadata": {
            "tags": []
          },
          "execution_count": 32
        }
      ]
    },
    {
      "cell_type": "markdown",
      "metadata": {
        "id": "F_gVmX7uUe_r",
        "colab_type": "text"
      },
      "source": [
        "The elimination of rows with NaN values have reduced our original data to less than a third. Since the data volume is vital for a Deep Learning system we filled Nan values in keypoins with mean of corresponding column( Images column doesn't have any Nan value).\n"
      ]
    },
    {
      "cell_type": "code",
      "metadata": {
        "id": "dSdc5m2uTG3g",
        "colab_type": "code",
        "colab": {
          "base_uri": "https://localhost:8080/",
          "height": 660
        },
        "outputId": "e7672652-cfa6-49d7-91ff-c0c7c85b64c3"
      },
      "source": [
        "points_df = points_df.fillna(points_df.mean())\n",
        "points_df.info()"
      ],
      "execution_count": 33,
      "outputs": [
        {
          "output_type": "stream",
          "text": [
            "<class 'pandas.core.frame.DataFrame'>\n",
            "RangeIndex: 7049 entries, 0 to 7048\n",
            "Data columns (total 30 columns):\n",
            " #   Column                     Non-Null Count  Dtype  \n",
            "---  ------                     --------------  -----  \n",
            " 0   left_eye_center_x          7049 non-null   float64\n",
            " 1   left_eye_center_y          7049 non-null   float64\n",
            " 2   right_eye_center_x         7049 non-null   float64\n",
            " 3   right_eye_center_y         7049 non-null   float64\n",
            " 4   left_eye_inner_corner_x    7049 non-null   float64\n",
            " 5   left_eye_inner_corner_y    7049 non-null   float64\n",
            " 6   left_eye_outer_corner_x    7049 non-null   float64\n",
            " 7   left_eye_outer_corner_y    7049 non-null   float64\n",
            " 8   right_eye_inner_corner_x   7049 non-null   float64\n",
            " 9   right_eye_inner_corner_y   7049 non-null   float64\n",
            " 10  right_eye_outer_corner_x   7049 non-null   float64\n",
            " 11  right_eye_outer_corner_y   7049 non-null   float64\n",
            " 12  left_eyebrow_inner_end_x   7049 non-null   float64\n",
            " 13  left_eyebrow_inner_end_y   7049 non-null   float64\n",
            " 14  left_eyebrow_outer_end_x   7049 non-null   float64\n",
            " 15  left_eyebrow_outer_end_y   7049 non-null   float64\n",
            " 16  right_eyebrow_inner_end_x  7049 non-null   float64\n",
            " 17  right_eyebrow_inner_end_y  7049 non-null   float64\n",
            " 18  right_eyebrow_outer_end_x  7049 non-null   float64\n",
            " 19  right_eyebrow_outer_end_y  7049 non-null   float64\n",
            " 20  nose_tip_x                 7049 non-null   float64\n",
            " 21  nose_tip_y                 7049 non-null   float64\n",
            " 22  mouth_left_corner_x        7049 non-null   float64\n",
            " 23  mouth_left_corner_y        7049 non-null   float64\n",
            " 24  mouth_right_corner_x       7049 non-null   float64\n",
            " 25  mouth_right_corner_y       7049 non-null   float64\n",
            " 26  mouth_center_top_lip_x     7049 non-null   float64\n",
            " 27  mouth_center_top_lip_y     7049 non-null   float64\n",
            " 28  mouth_center_bottom_lip_x  7049 non-null   float64\n",
            " 29  mouth_center_bottom_lip_y  7049 non-null   float64\n",
            "dtypes: float64(30)\n",
            "memory usage: 1.6 MB\n"
          ],
          "name": "stdout"
        }
      ]
    },
    {
      "cell_type": "markdown",
      "metadata": {
        "id": "BWATWHiEqZ6a",
        "colab_type": "text"
      },
      "source": [
        "Next, We will reform the images from string to matrix representation."
      ]
    },
    {
      "cell_type": "code",
      "metadata": {
        "id": "v_c29D_zqZKi",
        "colab_type": "code",
        "colab": {}
      },
      "source": [
        "imgs = []\n",
        "for i in range(0,train.shape[0]):\n",
        "    img = np.reshape(np.array(img_df[\"Image\"][i].split(' '), dtype='float'), (96,96))\n",
        "    imgs.append(img)\n",
        "\n",
        "imgs = np.array(imgs)/255.\n",
        "\n",
        "# each row of points should be conveted to a list.\n",
        "points = points_df.values.tolist()"
      ],
      "execution_count": 34,
      "outputs": []
    },
    {
      "cell_type": "markdown",
      "metadata": {
        "id": "LRsBwo430jBk",
        "colab_type": "text"
      },
      "source": [
        "#### **Visualization**"
      ]
    },
    {
      "cell_type": "markdown",
      "metadata": {
        "id": "4mwWLFpt0msv",
        "colab_type": "text"
      },
      "source": [
        "Now that the images are read and transformed to the proper structure we define a function for visulizaing an image with its key-points\n"
      ]
    },
    {
      "cell_type": "code",
      "metadata": {
        "id": "Jy5QkH9d0ym9",
        "colab_type": "code",
        "colab": {}
      },
      "source": [
        "def viualizeImageWithKeyPoints(img, keypoints, axis):\n",
        "  axis.imshow(img, cmap='gray')\n",
        "  axis.scatter(keypoints[::2], keypoints[1::2], marker='o', s=20)   #splits to Ys and Xs and shows\n",
        "  plt.show()"
      ],
      "execution_count": 35,
      "outputs": []
    },
    {
      "cell_type": "code",
      "metadata": {
        "id": "4Gd4yCIb_k0i",
        "colab_type": "code",
        "colab": {
          "base_uri": "https://localhost:8080/",
          "height": 268
        },
        "outputId": "622ab70a-8524-43c0-f88f-627c700c0ece"
      },
      "source": [
        "viualizeImageWithKeyPoints(imgs[158], points[158], plt)"
      ],
      "execution_count": 40,
      "outputs": [
        {
          "output_type": "display_data",
          "data": {
            "image/png": "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\n",
            "text/plain": [
              "<Figure size 432x288 with 1 Axes>"
            ]
          },
          "metadata": {
            "tags": [],
            "needs_background": "light"
          }
        }
      ]
    },
    {
      "cell_type": "markdown",
      "metadata": {
        "id": "qeuY9uGNAmlP",
        "colab_type": "text"
      },
      "source": [
        "#### **Data Augmentation**\n",
        "\n",
        "In this section, we are going to use the idea which AlexNet used to produce a feature invariant to transformation. For more info, take a look at [this link](https://link.springer.com/article/10.1186/s40537-019-0197-0)\n",
        "\n",
        "For this purpose, we transofrm each image to a 85-in-85 size and place it randomly in an area in the original in a way that contains all the key-points"
      ]
    },
    {
      "cell_type": "code",
      "metadata": {
        "id": "Ce7FrnFCBPVY",
        "colab_type": "code",
        "colab": {}
      },
      "source": [
        "def imageAugmentation(img, kps,maxCropSize = 10):\n",
        "  res_imgs=[]\n",
        "  res_pnts=[]\n",
        "  for i in range(4):\n",
        "    x_tr = random.randint(-maxCropSize,maxCropSize)\n",
        "    y_tr = random.randint(-maxCropSize,maxCropSize)\n",
        "    im = img[maxCropSize+int(y_tr/2):(96-(maxCropSize-int(y_tr/2))),\n",
        "             maxCropSize+int(x_tr/2):(96-(maxCropSize-int(x_tr/2)))]# value of crop from left, top, right, bottom respectivley\n",
        "\n",
        "\n",
        "    # calculate the new position of the key-points\n",
        "    y_tr=int(maxCropSize) + int(y_tr/2)\n",
        "    x_tr=int(maxCropSize) + int(x_tr/2)\n",
        "    pnts_tr = kps - np.array([x_tr,y_tr]*15)\n",
        "    res_imgs.append(im.reshape(96-(2*maxCropSize),96-(2*maxCropSize)))\n",
        "    res_pnts.append(pnts_tr)\n",
        "    #viualizeImageWithKeyPoints(im, pnts_tr, plt)\n",
        "\n",
        "  return np.array(res_imgs), np.array(res_pnts)"
      ],
      "execution_count": 70,
      "outputs": []
    },
    {
      "cell_type": "markdown",
      "metadata": {
        "id": "-MrWjwMg24NV",
        "colab_type": "text"
      },
      "source": [
        "Creating the final augmented images dataset\n"
      ]
    },
    {
      "cell_type": "code",
      "metadata": {
        "id": "NetOMQVN4Qt4",
        "colab_type": "code",
        "colab": {
          "base_uri": "https://localhost:8080/",
          "height": 52
        },
        "outputId": "7797fcb7-d344-4945-df3a-b6e1af5314c5"
      },
      "source": [
        "finalImgs,finalPnts = list(zip(*[imageAugmentation(img,p) for img,p in zip(imgs,points)]))\n",
        "finalImgs= np.concatenate(finalImgs)\n",
        "finalPnts = np.concatenate(finalPnts)\n",
        "\n",
        "print(finalImgs.shape)\n",
        "print(finalPnts.shape)\n"
      ],
      "execution_count": 73,
      "outputs": [
        {
          "output_type": "stream",
          "text": [
            "(28196, 76, 76)\n",
            "(28196, 30)\n"
          ],
          "name": "stdout"
        }
      ]
    }
  ]
}
